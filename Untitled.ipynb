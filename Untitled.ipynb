{
 "cells": [
  {
   "cell_type": "code",
   "execution_count": 1,
   "metadata": {
    "collapsed": true
   },
   "outputs": [],
   "source": [
    "import random\n",
    "import math\n",
    "import statistics\n",
    "import matplotlib.pyplot as plt\n"
   ]
  },
  {
   "cell_type": "code",
   "execution_count": 2,
   "metadata": {
    "collapsed": true
   },
   "outputs": [],
   "source": [
    "%matplotlib inline"
   ]
  },
  {
   "cell_type": "code",
   "execution_count": 3,
   "metadata": {
    "collapsed": false
   },
   "outputs": [],
   "source": [
    "class Player:\n",
    "\n",
    "\n",
    "\n",
    "    def __init__(self):\n",
    "        self.set_rolls = 1\n",
    "        self.points = 0\n",
    "        self.data_list = []\n",
    "\n",
    " \n",
    "    @property\n",
    "    def roll(self):\n",
    "        return random.randint(1,6)\n",
    "  \n",
    "    def turn(self):\n",
    "        possible_points = 0\n",
    "        throws = 0\n",
    "        while throws < self.set_rolls:\n",
    "            temp_roll = self.roll\n",
    "            if temp_roll == 1:\n",
    "                possible_points = possible_points - possible_points\n",
    "                break\n",
    "            elif temp_roll > 1:\n",
    "                possible_points = possible_points + temp_roll\n",
    "                throws = throws + 1\n",
    "\n",
    "        self.points = self.points + possible_points\n",
    "\n",
    "    @property\n",
    "    def turn_data(self):\n",
    "        return self.points\n",
    "\n",
    "\n",
    "    def run(self):\n",
    "        for _ in range(7):\n",
    "            self.turn()\n",
    "            self.data_list.append(self.turn_data)\n",
    "        return sum(self.data_list[-1:])\n",
    "\n",
    "\n",
    "\n",
    "class Hold_Opt(Player):\n",
    "    \n",
    "    def __init__(self):\n",
    "        self.set_rolls = 1\n",
    "        self.points = 0\n",
    "        self.data_list = []\n",
    "    \n",
    "        \n",
    "    \n",
    "    @property\n",
    "    def hold(self):\n",
    "        return 20\n",
    "\n",
    "    def turn(self):\n",
    "        possible_points = 0\n",
    "        throws = 0\n",
    "        while possible_points > self.hold:\n",
    "            temp_roll = self.roll\n",
    "            if temp_roll == 1:\n",
    "                possible_points = possible_points - possible_points\n",
    "                break\n",
    "            elif temp_roll > 1:\n",
    "                possible_points = possible_points + temp_roll\n",
    "                throws = throws + 1\n",
    "\n",
    "        self.points = self.points + possible_points\n",
    "        \n",
    "   \n",
    "class Rold(Player):\n",
    "    \n",
    "    @property\n",
    "    def hold(self):\n",
    "        return 20\n",
    "\n",
    "    def turn(self):\n",
    "        possible_points = 0\n",
    "        throws = 0\n",
    "        while throws < self.set_rolls or possible_points > self.hold:\n",
    "            temp_roll = self.roll\n",
    "            if temp_roll == 1:\n",
    "                possible_points = possible_points - possible_points\n",
    "                break\n",
    "            elif temp_roll > 1:\n",
    "                possible_points = possible_points + temp_roll\n",
    "                throws = throws + 1\n",
    "\n",
    "        self.points = self.points + possible_points\n",
    "     \n",
    "   \n",
    "    \n",
    "    \n"
   ]
  },
  {
   "cell_type": "code",
   "execution_count": 4,
   "metadata": {
    "collapsed": false
   },
   "outputs": [],
   "source": [
    "# Does not work for some reason\n",
    "\n",
    "h_base = Hold_Opt()\n",
    "h_two = Hold_Opt()\n",
    "h_three = Hold_Opt()\n",
    "h_four = Hold_Opt\n",
    "h_two.set_rolls = 2\n",
    "h_three.set_rolls = 3\n",
    "h_four.set_rolls = 4\n",
    "h_five = Hold_Opt()\n",
    "h_five.set_rolls = 5\n",
    "h_six = Hold_Opt()\n",
    "h_seven = Hold_Opt()\n",
    "h_eight = Hold_Opt()\n",
    "h_nine = Hold_Opt()\n",
    "h_ten = Hold_Opt()\n",
    "h_six.set_rolls = 6\n",
    "h_seven.set_rolls = 7\n",
    "h_eight.set_rolls = 8\n",
    "h_nine.set_rolls = 9\n",
    "h_ten.set_rolls = 10\n",
    "\n",
    "\n",
    "h_base = [h_base.run for _ in range(10000)]\n",
    "h_two = [h_two.run for _ in range(10000)]\n",
    "h_three = [h_three.run for _ in range(10000)]\n",
    "h_four = [h_four.run for _ in range(10000)]\n",
    "h_five = [h_five.run for _ in range(10000)]\n",
    "h_six = [h_six.run for _ in range(10000)]\n",
    "h_seven = [h_seven.run for _ in range(10000)]\n",
    "h_eight = [h_eight.run for _ in range(10000)]\n",
    "h_nine = [h_nine.run for _ in range(10000)]\n",
    "h_ten = [h_ten.run for _ in range(10000)]"
   ]
  },
  {
   "cell_type": "code",
   "execution_count": 26,
   "metadata": {
    "collapsed": false
   },
   "outputs": [],
   "source": [
    "base = Player()\n",
    "player_two = Player()\n",
    "player_three = Player()\n",
    "player_four = Player()\n",
    "player_two.set_rolls = 2\n",
    "player_three.set_rolls = 3\n",
    "player_four.set_rolls = 4\n",
    "player_five = Player()\n",
    "player_five.set_rolls = 5\n",
    "player_six = Player()\n",
    "player_seven = Player()\n",
    "player_eight = Player()\n",
    "player_nine = Player()\n",
    "player_ten = Player()\n",
    "player_six.set_rolls = 6\n",
    "player_seven.set_rolls = 7\n",
    "player_eight.set_rolls = 8\n",
    "player_nine.set_rolls = 9\n",
    "player_ten.set_rolls = 10\n",
    "\n",
    "base = [base.run() for _ in range(1000000)]\n",
    "player_two = [player_two.run() for _ in range(1000000)]\n",
    "player_three = [player_three.run() for _ in range(1000000)]\n",
    "player_four = [player_four.run() for _ in range(1000000)]\n",
    "player_five = [player_five.run() for _ in range(1000000)]\n",
    "player_six = [player_six.run() for _ in range(1000000)]\n",
    "player_seven = [player_seven.run() for _ in range(1000000)]\n",
    "player_eight = [player_eight.run() for _ in range(1000000)]\n",
    "player_nine = [player_nine.run() for _ in range(1000000)]\n",
    "player_ten = [player_ten.run() for _ in range(1000000)]\n"
   ]
  },
  {
   "cell_type": "code",
   "execution_count": 11,
   "metadata": {
    "collapsed": false
   },
   "outputs": [
    {
     "data": {
      "image/png": "[encoded data removed]",
      "text/plain": [
       "<matplotlib.figure.Figure at 0x105203198>"
      ]
     },
     "metadata": {},
     "output_type": "display_data"
    }
   ],
   "source": [
    "plt.boxplot([base, player_two, player_three, player_four, player_five, player_six, player_seven, player_eight,\n",
    "             player_nine, player_ten\n",
    "            ])\n",
    "ymin, ymax = plt.ylim()\n",
    "plt.ylim(ymin - 30, ymax + 30)\n",
    "plt.title(\"Holding After Certain Number of Rolls\")\n",
    "plt.ylabel(\"Distribution\")\n",
    "plt.xticks(range(1,11), [\"1 roll\", \"2 rolls\", \"3 rolls\", \"4 rolls\", \"5 rolls\", \"6 rolls\", \"7 rolls\",\n",
    "                         \"8 rolls\", \"9 rolls\", \"10 rolls\"\n",
    "                        ])\n",
    "plt.show()"
   ]
  },
  {
   "cell_type": "markdown",
   "metadata": {},
   "source": [
    "#### The graph above shows the distribution of highest points in 7 turns based on holding with a set number of rolls for 10,000 cycles"
   ]
  },
  {
   "cell_type": "code",
   "execution_count": 25,
   "metadata": {
    "collapsed": false
   },
   "outputs": [
    {
     "data": {
      "image/png": "[encoded data removed]",
      "text/plain": [
       "<matplotlib.figure.Figure at 0x10a9685c0>"
      ]
     },
     "metadata": {},
     "output_type": "display_data"
    }
   ],
   "source": [
    "\n",
    "plt.boxplot([base, player_two, player_three, player_four, player_five, player_six, player_seven, player_eight,\n",
    "             player_nine, player_ten\n",
    "            ])\n",
    "ymin, ymax = plt.ylim()\n",
    "plt.ylim(ymin - 30, ymax + 30)\n",
    "plt.title(\"Holding After Certain Number of Rolls\")\n",
    "plt.ylabel(\"Distribution\")\n",
    "plt.xticks(range(1,11), [\"1 roll\", \"2 rolls\", \"3 rolls\", \"4 rolls\", \"5 rolls\", \"6 rolls\", \"7 rolls\",\n",
    "                         \"8 rolls\", \"9 rolls\", \"10 rolls\"\n",
    "                        ])\n",
    "plt.show()"
   ]
  },
  {
   "cell_type": "markdown",
   "metadata": {
    "collapsed": false
   },
   "source": [
    "#### The graph above shows the distribution of highest points in 7 turns based on holding after a set number of rolls for 100,000 cycles"
   ]
  },
  {
   "cell_type": "code",
   "execution_count": 27,
   "metadata": {
    "collapsed": false
   },
   "outputs": [
    {
     "data": {
      "image/png": "[encoded data removed]",
      "text/plain": [
       "<matplotlib.figure.Figure at 0x10bda2860>"
      ]
     },
     "metadata": {},
     "output_type": "display_data"
    }
   ],
   "source": [
    "\n",
    "plt.boxplot([base, player_two, player_three, player_four, player_five, player_six, player_seven, player_eight,\n",
    "             player_nine, player_ten\n",
    "            ])\n",
    "ymin, ymax = plt.ylim()\n",
    "plt.ylim(ymin - 30, ymax + 30)\n",
    "plt.title(\"Holding After Certain Number of Rolls\")\n",
    "plt.ylabel(\"Distribution\")\n",
    "plt.xticks(range(1,11), [\"1 roll\", \"2 rolls\", \"3 rolls\", \"4 rolls\", \"5 rolls\", \"6 rolls\", \"7 rolls\",\n",
    "                         \"8 rolls\", \"9 rolls\", \"10 rolls\"\n",
    "                        ])\n",
    "plt.show()"
   ]
  },
  {
   "cell_type": "markdown",
   "metadata": {
    "collapsed": true
   },
   "source": [
    "##### The graph above shows the distribution of highest points in 7 turns based on holding after a set number of rolls for 1,000,000 cycles\n"
   ]
  },
  {
   "cell_type": "markdown",
   "metadata": {},
   "source": [
    "### I can use the data from all three graphs to conclude that holding after a certian number of rolls\n",
    "### has a statistically significant effect on the total points after 7 turns in the game of pigs"
   ]
  },
  {
   "cell_type": "code",
   "execution_count": 5,
   "metadata": {
    "collapsed": false
   },
   "outputs": [
    {
     "ename": "TypeError",
     "evalue": "unsupported operand type(s) for +: 'method' and 'method'",
     "output_type": "error",
     "traceback": [
      "\u001b[0;31m---------------------------------------------------------------------------\u001b[0m",
      "\u001b[0;31mTypeError\u001b[0m                                 Traceback (most recent call last)",
      "\u001b[0;32m<ipython-input-5-d928ba2b3216>\u001b[0m in \u001b[0;36m<module>\u001b[0;34m()\u001b[0m\n\u001b[1;32m      1\u001b[0m plt.boxplot([h_base, h_two, h_three, h_four, h_five, h_six, h_seven, h_eight,\n\u001b[0;32m----> 2\u001b[0;31m              \u001b[0mh_nine\u001b[0m\u001b[0;34m,\u001b[0m \u001b[0mh_ten\u001b[0m\u001b[0;34m\u001b[0m\u001b[0m\n\u001b[0m\u001b[1;32m      3\u001b[0m             ])\n\u001b[1;32m      4\u001b[0m \u001b[0mymin\u001b[0m\u001b[0;34m,\u001b[0m \u001b[0mymax\u001b[0m \u001b[0;34m=\u001b[0m \u001b[0mplt\u001b[0m\u001b[0;34m.\u001b[0m\u001b[0mylim\u001b[0m\u001b[0;34m(\u001b[0m\u001b[0;34m)\u001b[0m\u001b[0;34m\u001b[0m\u001b[0m\n\u001b[1;32m      5\u001b[0m \u001b[0mplt\u001b[0m\u001b[0;34m.\u001b[0m\u001b[0mylim\u001b[0m\u001b[0;34m(\u001b[0m\u001b[0mymin\u001b[0m \u001b[0;34m-\u001b[0m \u001b[0;36m30\u001b[0m\u001b[0;34m,\u001b[0m \u001b[0mymax\u001b[0m \u001b[0;34m+\u001b[0m \u001b[0;36m30\u001b[0m\u001b[0;34m)\u001b[0m\u001b[0;34m\u001b[0m\u001b[0m\n",
      "\u001b[0;32m/Users/lancerogers/homework/pig/utimate-pig/.direnv/python-3.4.2/lib/python3.4/site-packages/matplotlib/pyplot.py\u001b[0m in \u001b[0;36mboxplot\u001b[0;34m(x, notch, sym, vert, whis, positions, widths, patch_artist, bootstrap, usermedians, conf_intervals, meanline, showmeans, showcaps, showbox, showfliers, boxprops, labels, flierprops, medianprops, meanprops, capprops, whiskerprops, manage_xticks, hold)\u001b[0m\n\u001b[1;32m   2640\u001b[0m                          \u001b[0mflierprops\u001b[0m\u001b[0;34m=\u001b[0m\u001b[0mflierprops\u001b[0m\u001b[0;34m,\u001b[0m \u001b[0mmedianprops\u001b[0m\u001b[0;34m=\u001b[0m\u001b[0mmedianprops\u001b[0m\u001b[0;34m,\u001b[0m\u001b[0;34m\u001b[0m\u001b[0m\n\u001b[1;32m   2641\u001b[0m                          \u001b[0mmeanprops\u001b[0m\u001b[0;34m=\u001b[0m\u001b[0mmeanprops\u001b[0m\u001b[0;34m,\u001b[0m \u001b[0mcapprops\u001b[0m\u001b[0;34m=\u001b[0m\u001b[0mcapprops\u001b[0m\u001b[0;34m,\u001b[0m\u001b[0;34m\u001b[0m\u001b[0m\n\u001b[0;32m-> 2642\u001b[0;31m                          whiskerprops=whiskerprops, manage_xticks=manage_xticks)\n\u001b[0m\u001b[1;32m   2643\u001b[0m         \u001b[0mdraw_if_interactive\u001b[0m\u001b[0;34m(\u001b[0m\u001b[0;34m)\u001b[0m\u001b[0;34m\u001b[0m\u001b[0m\n\u001b[1;32m   2644\u001b[0m     \u001b[0;32mfinally\u001b[0m\u001b[0;34m:\u001b[0m\u001b[0;34m\u001b[0m\u001b[0m\n",
      "\u001b[0;32m/Users/lancerogers/homework/pig/utimate-pig/.direnv/python-3.4.2/lib/python3.4/site-packages/matplotlib/axes/_axes.py\u001b[0m in \u001b[0;36mboxplot\u001b[0;34m(self, x, notch, sym, vert, whis, positions, widths, patch_artist, bootstrap, usermedians, conf_intervals, meanline, showmeans, showcaps, showbox, showfliers, boxprops, labels, flierprops, medianprops, meanprops, capprops, whiskerprops, manage_xticks)\u001b[0m\n\u001b[1;32m   3046\u001b[0m         \"\"\"\n\u001b[1;32m   3047\u001b[0m         bxpstats = cbook.boxplot_stats(x, whis=whis, bootstrap=bootstrap,\n\u001b[0;32m-> 3048\u001b[0;31m                                        labels=labels)\n\u001b[0m\u001b[1;32m   3049\u001b[0m         \u001b[0;31m# make sure we have a dictionary\u001b[0m\u001b[0;34m\u001b[0m\u001b[0;34m\u001b[0m\u001b[0m\n\u001b[1;32m   3050\u001b[0m         \u001b[0;32mif\u001b[0m \u001b[0mflierprops\u001b[0m \u001b[0;32mis\u001b[0m \u001b[0;32mNone\u001b[0m\u001b[0;34m:\u001b[0m\u001b[0;34m\u001b[0m\u001b[0m\n",
      "\u001b[0;32m/Users/lancerogers/homework/pig/utimate-pig/.direnv/python-3.4.2/lib/python3.4/site-packages/matplotlib/cbook.py\u001b[0m in \u001b[0;36mboxplot_stats\u001b[0;34m(X, whis, bootstrap, labels)\u001b[0m\n\u001b[1;32m   1994\u001b[0m \u001b[0;34m\u001b[0m\u001b[0m\n\u001b[1;32m   1995\u001b[0m         \u001b[0;31m# arithmetic mean\u001b[0m\u001b[0;34m\u001b[0m\u001b[0;34m\u001b[0m\u001b[0m\n\u001b[0;32m-> 1996\u001b[0;31m         \u001b[0mstats\u001b[0m\u001b[0;34m[\u001b[0m\u001b[0;34m'mean'\u001b[0m\u001b[0;34m]\u001b[0m \u001b[0;34m=\u001b[0m \u001b[0mnp\u001b[0m\u001b[0;34m.\u001b[0m\u001b[0mmean\u001b[0m\u001b[0;34m(\u001b[0m\u001b[0mx\u001b[0m\u001b[0;34m)\u001b[0m\u001b[0;34m\u001b[0m\u001b[0m\n\u001b[0m\u001b[1;32m   1997\u001b[0m \u001b[0;34m\u001b[0m\u001b[0m\n\u001b[1;32m   1998\u001b[0m         \u001b[0;31m# medians and quartiles\u001b[0m\u001b[0;34m\u001b[0m\u001b[0;34m\u001b[0m\u001b[0m\n",
      "\u001b[0;32m/Users/lancerogers/homework/pig/utimate-pig/.direnv/python-3.4.2/lib/python3.4/site-packages/numpy/core/fromnumeric.py\u001b[0m in \u001b[0;36mmean\u001b[0;34m(a, axis, dtype, out, keepdims)\u001b[0m\n\u001b[1;32m   2733\u001b[0m \u001b[0;34m\u001b[0m\u001b[0m\n\u001b[1;32m   2734\u001b[0m     return _methods._mean(a, axis=axis, dtype=dtype,\n\u001b[0;32m-> 2735\u001b[0;31m                             out=out, keepdims=keepdims)\n\u001b[0m\u001b[1;32m   2736\u001b[0m \u001b[0;34m\u001b[0m\u001b[0m\n\u001b[1;32m   2737\u001b[0m \u001b[0;32mdef\u001b[0m \u001b[0mstd\u001b[0m\u001b[0;34m(\u001b[0m\u001b[0ma\u001b[0m\u001b[0;34m,\u001b[0m \u001b[0maxis\u001b[0m\u001b[0;34m=\u001b[0m\u001b[0;32mNone\u001b[0m\u001b[0;34m,\u001b[0m \u001b[0mdtype\u001b[0m\u001b[0;34m=\u001b[0m\u001b[0;32mNone\u001b[0m\u001b[0;34m,\u001b[0m \u001b[0mout\u001b[0m\u001b[0;34m=\u001b[0m\u001b[0;32mNone\u001b[0m\u001b[0;34m,\u001b[0m \u001b[0mddof\u001b[0m\u001b[0;34m=\u001b[0m\u001b[0;36m0\u001b[0m\u001b[0;34m,\u001b[0m \u001b[0mkeepdims\u001b[0m\u001b[0;34m=\u001b[0m\u001b[0;32mFalse\u001b[0m\u001b[0;34m)\u001b[0m\u001b[0;34m:\u001b[0m\u001b[0;34m\u001b[0m\u001b[0m\n",
      "\u001b[0;32m/Users/lancerogers/homework/pig/utimate-pig/.direnv/python-3.4.2/lib/python3.4/site-packages/numpy/core/_methods.py\u001b[0m in \u001b[0;36m_mean\u001b[0;34m(a, axis, dtype, out, keepdims)\u001b[0m\n\u001b[1;32m     64\u001b[0m         \u001b[0mdtype\u001b[0m \u001b[0;34m=\u001b[0m \u001b[0mmu\u001b[0m\u001b[0;34m.\u001b[0m\u001b[0mdtype\u001b[0m\u001b[0;34m(\u001b[0m\u001b[0;34m'f8'\u001b[0m\u001b[0;34m)\u001b[0m\u001b[0;34m\u001b[0m\u001b[0m\n\u001b[1;32m     65\u001b[0m \u001b[0;34m\u001b[0m\u001b[0m\n\u001b[0;32m---> 66\u001b[0;31m     \u001b[0mret\u001b[0m \u001b[0;34m=\u001b[0m \u001b[0mumr_sum\u001b[0m\u001b[0;34m(\u001b[0m\u001b[0marr\u001b[0m\u001b[0;34m,\u001b[0m \u001b[0maxis\u001b[0m\u001b[0;34m,\u001b[0m \u001b[0mdtype\u001b[0m\u001b[0;34m,\u001b[0m \u001b[0mout\u001b[0m\u001b[0;34m,\u001b[0m \u001b[0mkeepdims\u001b[0m\u001b[0;34m)\u001b[0m\u001b[0;34m\u001b[0m\u001b[0m\n\u001b[0m\u001b[1;32m     67\u001b[0m     \u001b[0;32mif\u001b[0m \u001b[0misinstance\u001b[0m\u001b[0;34m(\u001b[0m\u001b[0mret\u001b[0m\u001b[0;34m,\u001b[0m \u001b[0mmu\u001b[0m\u001b[0;34m.\u001b[0m\u001b[0mndarray\u001b[0m\u001b[0;34m)\u001b[0m\u001b[0;34m:\u001b[0m\u001b[0;34m\u001b[0m\u001b[0m\n\u001b[1;32m     68\u001b[0m         ret = um.true_divide(\n",
      "\u001b[0;31mTypeError\u001b[0m: unsupported operand type(s) for +: 'method' and 'method'"
     ]
    },
    {
     "data": {
      "image/png": "[encoded data removed]",
      "text/plain": [
       "<matplotlib.figure.Figure at 0x106415518>"
      ]
     },
     "metadata": {},
     "output_type": "display_data"
    }
   ],
   "source": [
    "plt.boxplot([h_base, h_two, h_three, h_four, h_five, h_six, h_seven, h_eight,\n",
    "             h_nine, h_ten\n",
    "            ])\n",
    "ymin, ymax = plt.ylim()\n",
    "plt.ylim(ymin - 30, ymax + 30)\n",
    "plt.title(\"Holding After Certain Number of Rolls\")\n",
    "plt.ylabel(\"Distribution\")\n",
    "plt.xticks(range(1,11), [\"1 roll\", \"2 rolls\", \"3 rolls\", \"4 rolls\", \"5 rolls\", \"6 rolls\", \"7 rolls\",\n",
    "                         \"8 rolls\", \"9 rolls\", \"10 rolls\"\n",
    "                        ])\n",
    "plt.show()"
   ]
  },
  {
   "cell_type": "code",
   "execution_count": null,
   "metadata": {
    "collapsed": true
   },
   "outputs": [],
   "source": []
  }
 ],
 "metadata": {
  "kernelspec": {
   "display_name": "Python 3",
   "language": "python",
   "name": "python3"
  },
  "language_info": {
   "codemirror_mode": {
    "name": "ipython",
    "version": 3
   },
   "file_extension": ".py",
   "mimetype": "text/x-python",
   "name": "python",
   "nbconvert_exporter": "python",
   "pygments_lexer": "ipython3",
   "version": "3.4.2"
  }
 },
 "nbformat": 4,
 "nbformat_minor": 0
}
